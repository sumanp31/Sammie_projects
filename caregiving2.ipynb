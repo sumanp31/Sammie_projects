{
 "cells": [
  {
   "cell_type": "code",
   "execution_count": 12,
   "metadata": {},
   "outputs": [],
   "source": [
    "import pandas as pd"
   ]
  },
  {
   "cell_type": "code",
   "execution_count": 13,
   "metadata": {},
   "outputs": [],
   "source": [
    "class Elders(): # inherit caregiving as superclass\n",
    "\n",
    "    def __init__(self, ):\n",
    "\n",
    "        self.name = name\n",
    "        self.id = id\n",
    "        self.age = age\n",
    "        self.fee = fee\n",
    "        self.availability = availability\n",
    "        self.rating = rating\n",
    "        \n",
    "    def set_profile(self): \n",
    "        pass\n",
    "        \n",
    "    def check_applications(self): \n",
    "        pass\n",
    "        \n",
    "    def review_rating(self): \n",
    "        pass\n",
    "\n",
    "    def approve_app(self): \n",
    "        pass"
   ]
  },
  {
   "cell_type": "code",
   "execution_count": 14,
   "metadata": {},
   "outputs": [],
   "source": [
    "class caregivers(): # inherit caregiving as superclass\n",
    "\n",
    "    def __init__(self, ):\n",
    "\n",
    "        self.name = name\n",
    "        self.id = id\n",
    "        self.age = age\n",
    "        self.fee = fee\n",
    "        self.availability = availability\n",
    "        self.rating = rating\n",
    "        \n",
    "    def set_profile(self): \n",
    "        pass\n",
    "        \n",
    "    def send_applications(self): \n",
    "        pass\n",
    "        \n",
    "    def review_rating(self): \n",
    "        pass\n",
    "\n",
    "    def response_received(self): \n",
    "        pass"
   ]
  },
  {
   "cell_type": "code",
   "execution_count": 15,
   "metadata": {},
   "outputs": [],
   "source": [
    "def elders(id): # using if condition, \n",
    "    df = pd.read_csv('oldies_backup.csv')\n",
    "    print(df[df['id']==id])\n",
    "    "
   ]
  },
  {
   "cell_type": "code",
   "execution_count": 16,
   "metadata": {},
   "outputs": [],
   "source": [
    "def caretakers(id): # using if condition, \n",
    "    pass"
   ]
  },
  {
   "cell_type": "code",
   "execution_count": 17,
   "metadata": {},
   "outputs": [
    {
     "name": "stdout",
     "output_type": "stream",
     "text": [
      "Are you an elderly person or a caregiver?: E\n"
     ]
    }
   ],
   "source": [
    "user_type = input('Are you an elderly person or a caregiver?: ')"
   ]
  },
  {
   "cell_type": "code",
   "execution_count": 21,
   "metadata": {},
   "outputs": [
    {
     "name": "stdout",
     "output_type": "stream",
     "text": [
      "What is your id?: 3\n"
     ]
    }
   ],
   "source": [
    "id = int(input('What is your id?: '))"
   ]
  },
  {
   "cell_type": "code",
   "execution_count": 22,
   "metadata": {},
   "outputs": [
    {
     "name": "stdout",
     "output_type": "stream",
     "text": [
      "Here\n",
      "   id Name  Age         Requirement   Fee Avaibility id of Caretaker  Rating  \\\n",
      "2   3    F   75  General with Walks  2000        yes            None     3.0   \n",
      "\n",
      "   No of Ratings list of Application  \n",
      "2              9                  []  \n"
     ]
    }
   ],
   "source": [
    "if user_type == 'E':\n",
    "    print (\"Here\")\n",
    "    elders(id)\n",
    "else:\n",
    "    caretakers(id)"
   ]
  },
  {
   "cell_type": "code",
   "execution_count": null,
   "metadata": {},
   "outputs": [],
   "source": []
  }
 ],
 "metadata": {
  "kernelspec": {
   "display_name": "Python 3",
   "language": "python",
   "name": "python3"
  },
  "language_info": {
   "codemirror_mode": {
    "name": "ipython",
    "version": 3
   },
   "file_extension": ".py",
   "mimetype": "text/x-python",
   "name": "python",
   "nbconvert_exporter": "python",
   "pygments_lexer": "ipython3",
   "version": "3.6.9"
  }
 },
 "nbformat": 4,
 "nbformat_minor": 2
}
